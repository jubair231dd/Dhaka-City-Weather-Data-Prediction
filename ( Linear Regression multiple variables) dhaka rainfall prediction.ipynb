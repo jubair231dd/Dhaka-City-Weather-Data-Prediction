{
 "cells": [
  {
   "cell_type": "code",
   "execution_count": 41,
   "id": "bda21817",
   "metadata": {},
   "outputs": [],
   "source": [
    "import pandas as pd\n",
    "import numpy as np\n",
    "import matplotlib.pyplot as plt\n",
    "from sklearn import linear_model\n"
   ]
  },
  {
   "cell_type": "code",
   "execution_count": 42,
   "id": "649de578",
   "metadata": {},
   "outputs": [
    {
     "data": {
      "text/html": [
       "<div>\n",
       "<style scoped>\n",
       "    .dataframe tbody tr th:only-of-type {\n",
       "        vertical-align: middle;\n",
       "    }\n",
       "\n",
       "    .dataframe tbody tr th {\n",
       "        vertical-align: top;\n",
       "    }\n",
       "\n",
       "    .dataframe thead th {\n",
       "        text-align: right;\n",
       "    }\n",
       "</style>\n",
       "<table border=\"1\" class=\"dataframe\">\n",
       "  <thead>\n",
       "    <tr style=\"text-align: right;\">\n",
       "      <th></th>\n",
       "      <th>Year</th>\n",
       "      <th>Month</th>\n",
       "      <th>rainfall</th>\n",
       "      <th>humidity</th>\n",
       "      <th>mean_max_temp</th>\n",
       "      <th>Mean_min_temp</th>\n",
       "    </tr>\n",
       "  </thead>\n",
       "  <tbody>\n",
       "    <tr>\n",
       "      <th>0</th>\n",
       "      <td>2009</td>\n",
       "      <td>1</td>\n",
       "      <td>1</td>\n",
       "      <td>72</td>\n",
       "      <td>25.919355</td>\n",
       "      <td>14.841935</td>\n",
       "    </tr>\n",
       "    <tr>\n",
       "      <th>1</th>\n",
       "      <td>2009</td>\n",
       "      <td>2</td>\n",
       "      <td>1</td>\n",
       "      <td>55</td>\n",
       "      <td>29.703571</td>\n",
       "      <td>17.250000</td>\n",
       "    </tr>\n",
       "    <tr>\n",
       "      <th>2</th>\n",
       "      <td>2009</td>\n",
       "      <td>3</td>\n",
       "      <td>43</td>\n",
       "      <td>53</td>\n",
       "      <td>33.277419</td>\n",
       "      <td>21.448387</td>\n",
       "    </tr>\n",
       "    <tr>\n",
       "      <th>3</th>\n",
       "      <td>2009</td>\n",
       "      <td>4</td>\n",
       "      <td>14</td>\n",
       "      <td>66</td>\n",
       "      <td>35.566667</td>\n",
       "      <td>25.853333</td>\n",
       "    </tr>\n",
       "    <tr>\n",
       "      <th>4</th>\n",
       "      <td>2009</td>\n",
       "      <td>5</td>\n",
       "      <td>168</td>\n",
       "      <td>72</td>\n",
       "      <td>34.583871</td>\n",
       "      <td>25.209677</td>\n",
       "    </tr>\n",
       "    <tr>\n",
       "      <th>...</th>\n",
       "      <td>...</td>\n",
       "      <td>...</td>\n",
       "      <td>...</td>\n",
       "      <td>...</td>\n",
       "      <td>...</td>\n",
       "      <td>...</td>\n",
       "    </tr>\n",
       "    <tr>\n",
       "      <th>120</th>\n",
       "      <td>2020</td>\n",
       "      <td>3</td>\n",
       "      <td>30</td>\n",
       "      <td>57</td>\n",
       "      <td>32.300000</td>\n",
       "      <td>20.900000</td>\n",
       "    </tr>\n",
       "    <tr>\n",
       "      <th>121</th>\n",
       "      <td>2020</td>\n",
       "      <td>4</td>\n",
       "      <td>127</td>\n",
       "      <td>72</td>\n",
       "      <td>33.800000</td>\n",
       "      <td>23.600000</td>\n",
       "    </tr>\n",
       "    <tr>\n",
       "      <th>122</th>\n",
       "      <td>2020</td>\n",
       "      <td>5</td>\n",
       "      <td>301</td>\n",
       "      <td>80</td>\n",
       "      <td>33.400000</td>\n",
       "      <td>24.800000</td>\n",
       "    </tr>\n",
       "    <tr>\n",
       "      <th>123</th>\n",
       "      <td>2020</td>\n",
       "      <td>6</td>\n",
       "      <td>271</td>\n",
       "      <td>81</td>\n",
       "      <td>33.400000</td>\n",
       "      <td>26.800000</td>\n",
       "    </tr>\n",
       "    <tr>\n",
       "      <th>124</th>\n",
       "      <td>2020</td>\n",
       "      <td>7</td>\n",
       "      <td>404</td>\n",
       "      <td>85</td>\n",
       "      <td>33.000000</td>\n",
       "      <td>27.100000</td>\n",
       "    </tr>\n",
       "  </tbody>\n",
       "</table>\n",
       "<p>125 rows × 6 columns</p>\n",
       "</div>"
      ],
      "text/plain": [
       "     Year  Month  rainfall  humidity  mean_max_temp  Mean_min_temp\n",
       "0    2009      1         1        72      25.919355      14.841935\n",
       "1    2009      2         1        55      29.703571      17.250000\n",
       "2    2009      3        43        53      33.277419      21.448387\n",
       "3    2009      4        14        66      35.566667      25.853333\n",
       "4    2009      5       168        72      34.583871      25.209677\n",
       "..    ...    ...       ...       ...            ...            ...\n",
       "120  2020      3        30        57      32.300000      20.900000\n",
       "121  2020      4       127        72      33.800000      23.600000\n",
       "122  2020      5       301        80      33.400000      24.800000\n",
       "123  2020      6       271        81      33.400000      26.800000\n",
       "124  2020      7       404        85      33.000000      27.100000\n",
       "\n",
       "[125 rows x 6 columns]"
      ]
     },
     "execution_count": 42,
     "metadata": {},
     "output_type": "execute_result"
    }
   ],
   "source": [
    "df = pd.read_csv(\"C:\\\\Users\\\\jubair pantho\\\\Desktop\\\\Data\\\\dhaka rainfall.csv\")\n",
    "df"
   ]
  },
  {
   "cell_type": "code",
   "execution_count": 81,
   "id": "ef57cdeb",
   "metadata": {},
   "outputs": [
    {
     "data": {
      "text/plain": [
       "<matplotlib.legend.Legend at 0x203bfe44700>"
      ]
     },
     "execution_count": 81,
     "metadata": {},
     "output_type": "execute_result"
    },
    {
     "data": {
      "image/png": "[encoded data removed]",
      "text/plain": [
       "<Figure size 432x288 with 1 Axes>"
      ]
     },
     "metadata": {
      "needs_background": "light"
     },
     "output_type": "display_data"
    }
   ],
   "source": [
    "plt.xlabel('Month')\n",
    "plt.ylabel('Total Monthly Rainfall(mm)')\n",
    "\n",
    "\n",
    "plt.bar(df.Month,df.rainfall, color='Green',  width = 0.4, label = 'Rainfall')\n",
    "\n",
    "plt.legend()"
   ]
  },
  {
   "cell_type": "code",
   "execution_count": 82,
   "id": "2e8c8c7c",
   "metadata": {},
   "outputs": [
    {
     "data": {
      "text/plain": [
       "<matplotlib.legend.Legend at 0x203bfd07a00>"
      ]
     },
     "execution_count": 82,
     "metadata": {},
     "output_type": "execute_result"
    },
    {
     "data": {
      "image/png": "[encoded data removed]",
      "text/plain": [
       "<Figure size 432x288 with 1 Axes>"
      ]
     },
     "metadata": {
      "needs_background": "light"
     },
     "output_type": "display_data"
    }
   ],
   "source": [
    "plt.xlabel('Month')\n",
    "plt.ylabel('Monthly Average Humidity(%)')\n",
    "\n",
    "plt.bar(df.Month,df.humidity, color='Red',  width = 0.4, label = 'Humidity')\n",
    "\n",
    "plt.legend()"
   ]
  },
  {
   "cell_type": "code",
   "execution_count": 83,
   "id": "409131de",
   "metadata": {},
   "outputs": [
    {
     "data": {
      "text/plain": [
       "<matplotlib.legend.Legend at 0x203c110ed30>"
      ]
     },
     "execution_count": 83,
     "metadata": {},
     "output_type": "execute_result"
    },
    {
     "data": {
      "image/png": "[encoded data removed]",
      "text/plain": [
       "<Figure size 432x288 with 1 Axes>"
      ]
     },
     "metadata": {
      "needs_background": "light"
     },
     "output_type": "display_data"
    }
   ],
   "source": [
    "plt.xlabel('Month')\n",
    "plt.ylabel('Mean Maximum Temperature')\n",
    "\n",
    "plt.bar(df.Month,df.mean_max_temp, color='Blue',  width = 0.4, label = 'Mean Maximum Temperature')\n",
    "\n",
    "plt.legend()"
   ]
  },
  {
   "cell_type": "code",
   "execution_count": 84,
   "id": "cc2896fd",
   "metadata": {},
   "outputs": [
    {
     "data": {
      "text/plain": [
       "<matplotlib.legend.Legend at 0x203c1278ca0>"
      ]
     },
     "execution_count": 84,
     "metadata": {},
     "output_type": "execute_result"
    },
    {
     "data": {
      "image/png": "[encoded data removed]",
      "text/plain": [
       "<Figure size 432x288 with 1 Axes>"
      ]
     },
     "metadata": {
      "needs_background": "light"
     },
     "output_type": "display_data"
    }
   ],
   "source": [
    "plt.xlabel('Month')\n",
    "plt.ylabel('Mean Minimum Temperature')\n",
    "\n",
    "\n",
    "plt.bar(df.Month,df.Mean_min_temp, color='Yellow',  width = 0.4, label = 'Mean Minimum Temperature')\n",
    "plt.legend()"
   ]
  },
  {
   "cell_type": "code",
   "execution_count": 11,
   "id": "e5ca9299",
   "metadata": {},
   "outputs": [],
   "source": [
    "#import math\n",
    "#median_bedroom = math.floor(df.bedrooms.median())\n",
    "#median_bedroom"
   ]
  },
  {
   "cell_type": "code",
   "execution_count": 12,
   "id": "c84cb3fb",
   "metadata": {},
   "outputs": [],
   "source": [
    "#df.bedrooms = df.bedrooms.fillna(median_bedroom)\n",
    "#df"
   ]
  },
  {
   "cell_type": "code",
   "execution_count": 44,
   "id": "aa41ab5e",
   "metadata": {},
   "outputs": [],
   "source": [
    "reg = linear_model.LinearRegression()"
   ]
  },
  {
   "cell_type": "code",
   "execution_count": 45,
   "id": "7b591895",
   "metadata": {},
   "outputs": [],
   "source": [
    "#reg.fit(df[['rainfall','humidity', 'mean_max_temp', 'Mean_min_temp']], df.Month)"
   ]
  },
  {
   "cell_type": "code",
   "execution_count": 57,
   "id": "e6b04a68",
   "metadata": {},
   "outputs": [
    {
     "data": {
      "text/plain": [
       "array([155.76644379])"
      ]
     },
     "execution_count": 57,
     "metadata": {},
     "output_type": "execute_result"
    }
   ],
   "source": [
    "reg.fit(df[['Year', 'Month']], df.rainfall)\n",
    "reg.predict([[2020, 1]])"
   ]
  },
  {
   "cell_type": "code",
   "execution_count": 58,
   "id": "871c7424",
   "metadata": {},
   "outputs": [
    {
     "data": {
      "text/plain": [
       "array([66.53748672])"
      ]
     },
     "execution_count": 58,
     "metadata": {},
     "output_type": "execute_result"
    }
   ],
   "source": [
    "reg.fit(df[['Year', 'Month']],df.humidity)\n",
    "reg.predict([[2012, 3]])"
   ]
  },
  {
   "cell_type": "code",
   "execution_count": 55,
   "id": "50de0ecf",
   "metadata": {},
   "outputs": [
    {
     "data": {
      "text/plain": [
       "array([31.45916191])"
      ]
     },
     "execution_count": 55,
     "metadata": {},
     "output_type": "execute_result"
    }
   ],
   "source": [
    "reg.fit(df[['Year', 'Month']],df.mean_max_temp)\n",
    "reg.predict([[2020, 3]])"
   ]
  },
  {
   "cell_type": "code",
   "execution_count": 56,
   "id": "7eebce71",
   "metadata": {},
   "outputs": [
    {
     "data": {
      "text/plain": [
       "array([22.01882587])"
      ]
     },
     "execution_count": 56,
     "metadata": {},
     "output_type": "execute_result"
    }
   ],
   "source": [
    "reg.fit(df[['Year', 'Month']],df.Mean_min_temp)\n",
    "reg.predict([[2020, 3]])"
   ]
  },
  {
   "cell_type": "code",
   "execution_count": 75,
   "id": "9f99d408",
   "metadata": {},
   "outputs": [],
   "source": [
    "#reg.coef_"
   ]
  },
  {
   "cell_type": "code",
   "execution_count": 76,
   "id": "7140c155",
   "metadata": {},
   "outputs": [],
   "source": [
    "#reg.intercept_"
   ]
  },
  {
   "cell_type": "code",
   "execution_count": null,
   "id": "e8615d85",
   "metadata": {},
   "outputs": [],
   "source": []
  }
 ],
 "metadata": {
  "kernelspec": {
   "display_name": "Python 3 (ipykernel)",
   "language": "python",
   "name": "python3"
  },
  "language_info": {
   "codemirror_mode": {
    "name": "ipython",
    "version": 3
   },
   "file_extension": ".py",
   "mimetype": "text/x-python",
   "name": "python",
   "nbconvert_exporter": "python",
   "pygments_lexer": "ipython3",
   "version": "3.9.7"
  }
 },
 "nbformat": 4,
 "nbformat_minor": 5
}
