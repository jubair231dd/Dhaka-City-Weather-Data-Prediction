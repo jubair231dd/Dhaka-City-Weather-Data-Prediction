{
 "cells": [
  {
   "cell_type": "markdown",
   "id": "ff08a80f",
   "metadata": {},
   "source": [
    "# Dhaka City Rainfall Prediction"
   ]
  },
  {
   "cell_type": "code",
   "execution_count": 2,
   "id": "bda21817",
   "metadata": {},
   "outputs": [],
   "source": [
    "import pandas as pd\n",
    "import numpy as np\n",
    "import matplotlib.pyplot as plt\n",
    "from sklearn import linear_model\n"
   ]
  },
  {
   "cell_type": "code",
   "execution_count": 3,
   "id": "649de578",
   "metadata": {},
   "outputs": [
    {
     "data": {
      "text/html": [
       "<div>\n",
       "<style scoped>\n",
       "    .dataframe tbody tr th:only-of-type {\n",
       "        vertical-align: middle;\n",
       "    }\n",
       "\n",
       "    .dataframe tbody tr th {\n",
       "        vertical-align: top;\n",
       "    }\n",
       "\n",
       "    .dataframe thead th {\n",
       "        text-align: right;\n",
       "    }\n",
       "</style>\n",
       "<table border=\"1\" class=\"dataframe\">\n",
       "  <thead>\n",
       "    <tr style=\"text-align: right;\">\n",
       "      <th></th>\n",
       "      <th>month_total</th>\n",
       "      <th>Month</th>\n",
       "      <th>rainfall</th>\n",
       "      <th>humidity</th>\n",
       "      <th>mean_max_temp</th>\n",
       "      <th>Mean_min_temp</th>\n",
       "    </tr>\n",
       "  </thead>\n",
       "  <tbody>\n",
       "    <tr>\n",
       "      <th>0</th>\n",
       "      <td>1</td>\n",
       "      <td>1</td>\n",
       "      <td>1</td>\n",
       "      <td>72</td>\n",
       "      <td>25.919355</td>\n",
       "      <td>14.841935</td>\n",
       "    </tr>\n",
       "    <tr>\n",
       "      <th>1</th>\n",
       "      <td>2</td>\n",
       "      <td>2</td>\n",
       "      <td>1</td>\n",
       "      <td>55</td>\n",
       "      <td>29.703571</td>\n",
       "      <td>17.250000</td>\n",
       "    </tr>\n",
       "    <tr>\n",
       "      <th>2</th>\n",
       "      <td>3</td>\n",
       "      <td>3</td>\n",
       "      <td>43</td>\n",
       "      <td>53</td>\n",
       "      <td>33.277419</td>\n",
       "      <td>21.448387</td>\n",
       "    </tr>\n",
       "    <tr>\n",
       "      <th>3</th>\n",
       "      <td>4</td>\n",
       "      <td>4</td>\n",
       "      <td>14</td>\n",
       "      <td>66</td>\n",
       "      <td>35.566667</td>\n",
       "      <td>25.853333</td>\n",
       "    </tr>\n",
       "    <tr>\n",
       "      <th>4</th>\n",
       "      <td>5</td>\n",
       "      <td>5</td>\n",
       "      <td>168</td>\n",
       "      <td>72</td>\n",
       "      <td>34.583871</td>\n",
       "      <td>25.209677</td>\n",
       "    </tr>\n",
       "    <tr>\n",
       "      <th>5</th>\n",
       "      <td>6</td>\n",
       "      <td>6</td>\n",
       "      <td>170</td>\n",
       "      <td>74</td>\n",
       "      <td>34.503333</td>\n",
       "      <td>26.693333</td>\n",
       "    </tr>\n",
       "    <tr>\n",
       "      <th>6</th>\n",
       "      <td>7</td>\n",
       "      <td>7</td>\n",
       "      <td>676</td>\n",
       "      <td>80</td>\n",
       "      <td>32.335484</td>\n",
       "      <td>26.722581</td>\n",
       "    </tr>\n",
       "    <tr>\n",
       "      <th>7</th>\n",
       "      <td>8</td>\n",
       "      <td>8</td>\n",
       "      <td>482</td>\n",
       "      <td>82</td>\n",
       "      <td>32.493548</td>\n",
       "      <td>26.332258</td>\n",
       "    </tr>\n",
       "    <tr>\n",
       "      <th>8</th>\n",
       "      <td>9</td>\n",
       "      <td>9</td>\n",
       "      <td>298</td>\n",
       "      <td>81</td>\n",
       "      <td>32.543333</td>\n",
       "      <td>26.316667</td>\n",
       "    </tr>\n",
       "    <tr>\n",
       "      <th>9</th>\n",
       "      <td>10</td>\n",
       "      <td>10</td>\n",
       "      <td>74</td>\n",
       "      <td>73</td>\n",
       "      <td>32.222581</td>\n",
       "      <td>24.206452</td>\n",
       "    </tr>\n",
       "    <tr>\n",
       "      <th>10</th>\n",
       "      <td>11</td>\n",
       "      <td>11</td>\n",
       "      <td>4</td>\n",
       "      <td>66</td>\n",
       "      <td>30.176667</td>\n",
       "      <td>20.216667</td>\n",
       "    </tr>\n",
       "    <tr>\n",
       "      <th>11</th>\n",
       "      <td>12</td>\n",
       "      <td>12</td>\n",
       "      <td>0</td>\n",
       "      <td>69</td>\n",
       "      <td>25.987097</td>\n",
       "      <td>15.370968</td>\n",
       "    </tr>\n",
       "  </tbody>\n",
       "</table>\n",
       "</div>"
      ],
      "text/plain": [
       "    month_total  Month  rainfall  humidity  mean_max_temp  Mean_min_temp\n",
       "0             1      1         1        72      25.919355      14.841935\n",
       "1             2      2         1        55      29.703571      17.250000\n",
       "2             3      3        43        53      33.277419      21.448387\n",
       "3             4      4        14        66      35.566667      25.853333\n",
       "4             5      5       168        72      34.583871      25.209677\n",
       "5             6      6       170        74      34.503333      26.693333\n",
       "6             7      7       676        80      32.335484      26.722581\n",
       "7             8      8       482        82      32.493548      26.332258\n",
       "8             9      9       298        81      32.543333      26.316667\n",
       "9            10     10        74        73      32.222581      24.206452\n",
       "10           11     11         4        66      30.176667      20.216667\n",
       "11           12     12         0        69      25.987097      15.370968"
      ]
     },
     "execution_count": 3,
     "metadata": {},
     "output_type": "execute_result"
    }
   ],
   "source": [
    "df = pd.read_csv(\"C:\\\\Users\\\\jubair pantho\\\\Desktop\\\\Data\\\\dhaka rainfall.csv\")\n",
    "df\n",
    "df.head(12)"
   ]
  },
  {
   "cell_type": "code",
   "execution_count": 5,
   "id": "c49ee19f",
   "metadata": {},
   "outputs": [
    {
     "data": {
      "text/plain": [
       "<matplotlib.collections.PathCollection at 0x18cba05ffd0>"
      ]
     },
     "execution_count": 5,
     "metadata": {},
     "output_type": "execute_result"
    },
    {
     "data": {
      "image/png": "[encoded data removed]",
      "text/plain": [
       "<Figure size 432x288 with 1 Axes>"
      ]
     },
     "metadata": {
      "needs_background": "light"
     },
     "output_type": "display_data"
    }
   ],
   "source": [
    "plt.scatter(df['humidity'], df['rainfall'])"
   ]
  },
  {
   "cell_type": "code",
   "execution_count": 6,
   "id": "dd9c2699",
   "metadata": {},
   "outputs": [
    {
     "data": {
      "text/plain": [
       "<matplotlib.collections.PathCollection at 0x1bc0dca5490>"
      ]
     },
     "execution_count": 6,
     "metadata": {},
     "output_type": "execute_result"
    },
    {
     "data": {
      "image/png": "[encoded data removed]",
      "text/plain": [
       "<Figure size 432x288 with 1 Axes>"
      ]
     },
     "metadata": {
      "needs_background": "light"
     },
     "output_type": "display_data"
    }
   ],
   "source": [
    "plt.scatter(df['mean_max_temp'], df['rainfall'])"
   ]
  },
  {
   "cell_type": "code",
   "execution_count": 7,
   "id": "81fa03de",
   "metadata": {},
   "outputs": [
    {
     "data": {
      "text/plain": [
       "<matplotlib.collections.PathCollection at 0x1bc0dd1c2e0>"
      ]
     },
     "execution_count": 7,
     "metadata": {},
     "output_type": "execute_result"
    },
    {
     "data": {
      "image/png": "[encoded data removed]",
      "text/plain": [
       "<Figure size 432x288 with 1 Axes>"
      ]
     },
     "metadata": {
      "needs_background": "light"
     },
     "output_type": "display_data"
    }
   ],
   "source": [
    "plt.scatter(df['Mean_min_temp'], df['rainfall'])"
   ]
  },
  {
   "cell_type": "code",
   "execution_count": 6,
   "id": "955ab6b5",
   "metadata": {},
   "outputs": [
    {
     "data": {
      "text/plain": [
       "<matplotlib.legend.Legend at 0x22436144220>"
      ]
     },
     "execution_count": 6,
     "metadata": {},
     "output_type": "execute_result"
    },
    {
     "data": {
      "image/png": "[encoded data removed]",
      "text/plain": [
       "<Figure size 432x288 with 1 Axes>"
      ]
     },
     "metadata": {
      "needs_background": "light"
     },
     "output_type": "display_data"
    }
   ],
   "source": [
    "plt.xlabel('total_month')\n",
    "plt.ylabel('Total Monthly Rainfall(mm)')\n",
    "\n",
    "\n",
    "plt.bar(df.month_total,df.rainfall, color='Green',  width = 0.4, label = 'Rainfall')\n",
    "\n",
    "plt.legend()"
   ]
  },
  {
   "cell_type": "code",
   "execution_count": 7,
   "id": "5c4ed1fe",
   "metadata": {},
   "outputs": [
    {
     "data": {
      "text/plain": [
       "<matplotlib.legend.Legend at 0x2243614fdc0>"
      ]
     },
     "execution_count": 7,
     "metadata": {},
     "output_type": "execute_result"
    },
    {
     "data": {
      "image/png": "[encoded data removed]",
      "text/plain": [
       "<Figure size 432x288 with 1 Axes>"
      ]
     },
     "metadata": {
      "needs_background": "light"
     },
     "output_type": "display_data"
    }
   ],
   "source": [
    "plt.xlabel('total month')\n",
    "plt.ylabel('Monthly Average Humidity(%)')\n",
    "\n",
    "plt.bar(df.month_total,df.humidity, color='Red',  width = 0.4, label = 'Humidity')\n",
    "\n",
    "plt.legend()"
   ]
  },
  {
   "cell_type": "code",
   "execution_count": 8,
   "id": "7f0621fd",
   "metadata": {},
   "outputs": [
    {
     "data": {
      "text/plain": [
       "<matplotlib.legend.Legend at 0x22435f95370>"
      ]
     },
     "execution_count": 8,
     "metadata": {},
     "output_type": "execute_result"
    },
    {
     "data": {
      "image/png": "[encoded data removed]",
      "text/plain": [
       "<Figure size 432x288 with 1 Axes>"
      ]
     },
     "metadata": {
      "needs_background": "light"
     },
     "output_type": "display_data"
    }
   ],
   "source": [
    "plt.xlabel('total month')\n",
    "plt.ylabel('Mean Maximum Temperature')\n",
    "\n",
    "plt.bar(df.month_total,df.mean_max_temp, color='Blue',  width = 0.4, label = 'Mean Maximum Temperature')\n",
    "\n",
    "plt.legend()"
   ]
  },
  {
   "cell_type": "code",
   "execution_count": 6,
   "id": "c41c82f8",
   "metadata": {},
   "outputs": [
    {
     "data": {
      "text/plain": [
       "<matplotlib.legend.Legend at 0x18cba092490>"
      ]
     },
     "execution_count": 6,
     "metadata": {},
     "output_type": "execute_result"
    },
    {
     "data": {
      "image/png": "[encoded data removed]",
      "text/plain": [
       "<Figure size 432x288 with 1 Axes>"
      ]
     },
     "metadata": {
      "needs_background": "light"
     },
     "output_type": "display_data"
    }
   ],
   "source": [
    "plt.xlabel('Total Month')\n",
    "plt.ylabel('Mean Minimum Temperature')\n",
    "\n",
    "\n",
    "plt.bar(df.month_total,df.Mean_min_temp, color='black',  width = 0.4, label = 'Mean Minimum Temperature')\n",
    "plt.legend()"
   ]
  },
  {
   "cell_type": "code",
   "execution_count": 7,
   "id": "8eb3253b",
   "metadata": {},
   "outputs": [],
   "source": [
    "x = df[['humidity', 'mean_max_temp','Mean_min_temp']]\n",
    "y = df[['rainfall']]"
   ]
  },
  {
   "cell_type": "code",
   "execution_count": 8,
   "id": "c3b20bf5",
   "metadata": {},
   "outputs": [],
   "source": [
    "from sklearn.model_selection import train_test_split\n",
    "x_train, x_test, y_train, y_test = train_test_split(x,y, test_size=0.2,random_state = 10)"
   ]
  },
  {
   "cell_type": "code",
   "execution_count": 9,
   "id": "d3741254",
   "metadata": {},
   "outputs": [],
   "source": [
    "from sklearn.linear_model import LinearRegression\n",
    "clf = LinearRegression()"
   ]
  },
  {
   "cell_type": "code",
   "execution_count": 10,
   "id": "7cb5f542",
   "metadata": {},
   "outputs": [
    {
     "data": {
      "text/plain": [
       "LinearRegression()"
      ]
     },
     "execution_count": 10,
     "metadata": {},
     "output_type": "execute_result"
    }
   ],
   "source": [
    "clf.fit(x_train, y_train)"
   ]
  },
  {
   "cell_type": "code",
   "execution_count": 11,
   "id": "5af9aede",
   "metadata": {},
   "outputs": [
    {
     "data": {
      "text/plain": [
       "0.6400049976958034"
      ]
     },
     "execution_count": 11,
     "metadata": {},
     "output_type": "execute_result"
    }
   ],
   "source": [
    "clf.score(x_test,y_test)"
   ]
  },
  {
   "cell_type": "code",
   "execution_count": 18,
   "id": "ed10d307",
   "metadata": {},
   "outputs": [
    {
     "data": {
      "text/plain": [
       "array([[ -32.13226337],\n",
       "       [ 174.71254279],\n",
       "       [ 115.52029632],\n",
       "       [  13.34178818],\n",
       "       [ 301.87229529],\n",
       "       [  67.90326756],\n",
       "       [ 248.16906277],\n",
       "       [ 325.38413883],\n",
       "       [   5.77125833],\n",
       "       [   6.05255075],\n",
       "       [ -46.69836917],\n",
       "       [ 262.9190234 ],\n",
       "       [ 319.47587071],\n",
       "       [ -60.13329016],\n",
       "       [-114.93843153],\n",
       "       [ -86.10427141],\n",
       "       [  49.56524549],\n",
       "       [ 299.0321027 ],\n",
       "       [  64.23777991],\n",
       "       [ 286.80246401],\n",
       "       [  70.15447496],\n",
       "       [ -58.65155858],\n",
       "       [  93.09874701],\n",
       "       [ 118.99653847],\n",
       "       [   8.86259993]])"
      ]
     },
     "execution_count": 18,
     "metadata": {},
     "output_type": "execute_result"
    }
   ],
   "source": [
    "clf.predict(x_test)"
   ]
  },
  {
   "cell_type": "markdown",
   "id": "32800fcb",
   "metadata": {},
   "source": [
    "## End"
   ]
  }
 ],
 "metadata": {
  "kernelspec": {
   "display_name": "Python 3 (ipykernel)",
   "language": "python",
   "name": "python3"
  },
  "language_info": {
   "codemirror_mode": {
    "name": "ipython",
    "version": 3
   },
   "file_extension": ".py",
   "mimetype": "text/x-python",
   "name": "python",
   "nbconvert_exporter": "python",
   "pygments_lexer": "ipython3",
   "version": "3.9.7"
  }
 },
 "nbformat": 4,
 "nbformat_minor": 5
}
